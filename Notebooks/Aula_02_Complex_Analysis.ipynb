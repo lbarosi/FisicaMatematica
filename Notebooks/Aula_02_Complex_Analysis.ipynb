{
 "cells": [
  {
   "cell_type": "markdown",
   "id": "loving-integrity",
   "metadata": {},
   "source": [
    "<center><img src=\"../IMAGES/Logo-UFCG.png\" alt=\"logo UFCG\" width=15%></center> \n",
    "    <h1>Física Matemática II</h1>\n",
    "    <h1>2020.1 (tempo de pandemia)</h1>\n",
    "    <h2>Luciano Barosi</h2>\n",
    "    \n",
    "### Aula 2: 02 de março de 2021\n"
   ]
  },
  {
   "cell_type": "markdown",
   "id": "silver-jones",
   "metadata": {},
   "source": [
    "# Condições de Cauchy-Riemann"
   ]
  },
  {
   "cell_type": "markdown",
   "id": "fifteen-missouri",
   "metadata": {},
   "source": [
    "Embora o corpo complexo não seja ordenado, ele é um espaço topológico onde temos uma noção clara de abertos como discos no plano complexo e as definições de continuidade e de limite podem ser extendidas de maneira trivial.\n",
    "\n",
    "Para extender o conceito de derivação de uma função devemos ter um pouco mais de cuidado. Claramente estamos trabalhando em um conceito que se aproxima do conceito de derivada em 2 dimensões. Precisamos definir uma derivada que valha independentemente do caminho utilizado para realizar a integração, isto nos leva às condições de cauchy-riemann e suas implicações.\n",
    "\n",
    "Seja $f[z] = u[x,y]+\\mathbb{i}v[x,y]$ um automorfismo do plano complexo. $u$ e $v$ são funções de $\\mathbb{R}^2 \\mapsto \\mathbb{R}$.\n",
    "\n",
    "$f$ é diferenciável se e somente se as **condições de cauchy-riemmann** são satisfeitas:\n",
    "$$ \\frac{\\partial u}{\\partial x} = \\frac{\\partial v}{\\partial y}\\\\\n",
    "\\frac{\\partial u}{\\partial y} = - \\frac{\\partial v}{\\partial x}$$\n",
    "\n",
    "A função que satisfaz estas propriedades é uma função holomórfica na vizinha de $z_0$ onde são válidas estas condições. Se a função é analítica, isto é, holomórfica, em todo o plano complexo a função é dita inteira.\n",
    "\n",
    "As regras usuais para as derivadas podem ser obtidas facilmente, em particular a regra de Leibnitz e a regra da cadeia."
   ]
  },
  {
   "cell_type": "markdown",
   "id": "banned-given",
   "metadata": {},
   "source": [
    "## Exercício:\n",
    "Mostre que a parte real e a parte imaginária de uma função analítica satisfazem a equação de laplace $\\nabla^2 \\Phi=0 $, sendo portanto **funções harmônicas**."
   ]
  },
  {
   "cell_type": "markdown",
   "id": "presidential-emergency",
   "metadata": {},
   "source": [
    "# Teorema Integral de Cauchy-Goursat"
   ]
  },
  {
   "cell_type": "markdown",
   "id": "lesser-healing",
   "metadata": {},
   "source": [
    "Uma vez que conseguimos definira derivada de uma função complexa (nas condições em que ela existe), podemos partir para estudar a integração. A restrição imposta pelas condições de Cauchy-Riemann vai se mostrar bastante poderosa quando aplicada às integrais. \n",
    "\n",
    "O primeiro passo é considerar uma integral no plano complexo como uma versão generalizada de uma integral de Riemann ao longo de um caminho que liga os extremoa da integração. Chamemô-los de $z_0$ e $z_0'$, dividimos o caminho que liga esses pontos em n intervalos. A soma de Riemmann é: \n",
    "\n",
    "$$S_n = \\sum_{j=1}^{n} f(\\zeta_i)(z_j-z_{j-1}), $$\n",
    "\n",
    "quando existe o limite $\\lim_{n\\mapsto\\infty} S_n$ existe, então podemos definir a integral complexa como:\n",
    "$$\\int_{z_0}^{z'_0} f(z) dz = \\lim_{n\\mapsto\\infty}\\sum_{j=1}^{n} f(\\zeta_i)(z_j-z_{j-1}) $$\n",
    "\n",
    "É possível definir esta integral em termos das partes reais e imaginárias da função $f$, de consideramos o infinitesimal $dz = dx + idy$"
   ]
  },
  {
   "cell_type": "markdown",
   "id": "common-romance",
   "metadata": {},
   "source": [
    "## Exercício \n",
    "Mostre explicitamente qual é a expressão da integral de z ao longo de um caminho em termos de integrais de funções reais seguindo a proposta acima."
   ]
  },
  {
   "cell_type": "markdown",
   "id": "liable-madison",
   "metadata": {},
   "source": [
    "Em princípio, os resultados das integrais podem depender de qual o caminho que foi utilizado. Em alguns casos, a integral independe do caminho. \n",
    "\n",
    "### Teorema de Cauchy-Goursat:\n",
    "*Se uma função $f(z)$ é analítica em uma região simplesmente conexa $R$, para qualquer contorno fechado $C$ em $R$, a integral de f(z) ao longo de $C$ é nula*\n",
    "\n",
    "$$\\oint_C f(z) \\;dz = 0$$\n",
    "\n",
    "Podemos observar a enorme semelhança com o teorema de Stokes e a demonstração do teorema pode ser realizado usando o próprio teorema de Stokes (o que é, na essência, o teorema fundamental do cálculo). **É instrutivo e recomendável que esta demonstração simples seja estudada**.\n",
    "\n",
    "O teorema de Cauchy impõe muitas restrições sobre a função $f$, em particular, impõe que a primeira derivada da função seja contínua. A contribuição de Goursat foi extender a demonstração sem exigir essa condição."
   ]
  },
  {
   "cell_type": "markdown",
   "id": "convenient-jason",
   "metadata": {},
   "source": [
    "O teorema acima foi definido para regiões simplesmente conexas, ou seja, regiões em que todas as curvas podem ser contraídas a um ponto. Mas podemos estender o resultado para regiões multiplamente conexas através da escolha sensata de caminhos de integração."
   ]
  },
  {
   "cell_type": "code",
   "execution_count": null,
   "id": "cordless-temple",
   "metadata": {
    "ExecuteTime": {
     "start_time": "2021-03-02T23:37:23.475Z"
    }
   },
   "outputs": [],
   "source": [
    "(*Problema para rodar*)\n",
    "\\[Theta]1=0.74\\[Pi];\n",
    "\\[Theta]2=-1.24\\[Pi];\n",
    "pt1={Cos[\\[Theta]1],Sin[\\[Theta]1]};\n",
    "pt2={Cos[\\[Theta]2],Sin[\\[Theta]2]};\n",
    "Show[\n",
    "    Graphics[\n",
    "        {Circle[{0,0},1,{\\[Theta]2,\\[Theta]1}],\n",
    "        Circle[{0,0},2,{-1.24\\[Pi],0.74\\[Pi]}], \n",
    "        Arrow[{2 pt1,pt1}],\n",
    "        Arrow[{pt2,2 pt2}],\n",
    "    {Hue[0.6],Disk[{0,0},0.9]},Circle[{1.1,1.1},0.1],Disk[{1.1,1.1},0.05],\n",
    "    Text[\"C\",{1,0.85}],\n",
    "    Text[\"Subscript[C, 2]\",{2,-0.8}],\n",
    "    Text[\"Subscript[C, 1]\",{1.1,-0.5}]}],AspectRatio->Automatic];"
   ]
  },
  {
   "cell_type": "markdown",
   "id": "synthetic-contents",
   "metadata": {
    "slideshow": {
     "slide_type": "fragment"
    }
   },
   "source": [
    "### Exemplo\n",
    "\n",
    "Calcule $$\\int_0^\\infty \\cos(x^2)\\;dx. $$\n",
    "\n",
    "Esta é uma integral real, mas é de fato bastante difícil pensar em métodos para obter seu resultado. Mas usando o teorema de Cauchy Goursat podemos escrever\n",
    "$$ I = \\oint_C e^{\\mathbb{i} z^2} \\; dz = 0 = I_1 + I_2 + I_3$$\n",
    "\n",
    "O truque é escolher o caminho de integração adequado. O caminho 1 é a reta real, a partir do 0 e indo até o infinito, do infinito nós circulamos (sempre no sentido anti-horário) 45 graus e voltamos a origem pelo caminho 3. Este é um caminho fechado no plano complexo.\n",
    "\n",
    "A integral no arco circular do infiniro pode ser escrita com certa facilidade usando coordenadas polares \n",
    "$$z = R e^{\\mathbb{i} \\theta} \\Rightarrow e^{\\mathbb{i} z^2} = \\exp(\\mathbb{i} R^2 \\cos(2\\theta)) \\exp(-R^2 \\sin(2\\theta)),  $$ como o $\\sin(\\theta)$ é positivo na região considerada, o termo com a exponencial no seno é amortecido por $R^2$ e o termo que o multipla é limitado, logo:\n",
    "$$R \\mapsto \\infty \\Rightarrow I_2 = 0 \\Rightarrow  I_1 = -I_3 $$\n",
    "\n",
    "A escolha do ângulo não foi aleatória. A parte real integral $I_1$ é a integral que queremos:\n",
    "\n",
    "$$ I_1 = \\int_0^\\infty \\cos(x^2) dx + \\mathbb{i} \\int_0^\\infty \\sin(x^2) dx $$ \n",
    "\n",
    "Agora usamos o caminho 2, parametrizando o caminho como\n",
    "$$ z=\\frac{1+i}{\\sqrt{2}}t \\Rightarrow dz = \\frac{1+i}{\\sqrt{2}} e^{\\mathbb{i}z^2} = e^{-t^2},   $$\n",
    "desta forma\n",
    "$$ I_3 = \\frac{1+i}{\\sqrt{2}}\\int_\\infty^0 e^{-t^2}\\; dt = - \\frac{1+i}{\\sqrt{2}} \\frac{\\sqrt{\\pi}}{2}, $$\n",
    "finalmente\n",
    "\n",
    "$$\\int_0^\\infty \\cos(x^2)\\;dx. = \\int_0^\\infty \\sin(x^2)\\;dx. = \\frac{\\sqrt{\\pi}}{\\sqrt{8}}  $$\n"
   ]
  },
  {
   "cell_type": "markdown",
   "id": "dedicated-separate",
   "metadata": {},
   "source": [
    "## Fórmula Integral de Cauchy"
   ]
  },
  {
   "cell_type": "markdown",
   "id": "cardiovascular-adams",
   "metadata": {},
   "source": [
    "seja $f$ uma função analítica ao longo de um con torno fechado C e seu interior. Considere $z_0$ um ponto no interior da região:\n",
    "$$ \\frac{1}{2\\pi \\mathbb{i}} \\oint \\frac{f(z)}{z-z_0} \\;dz = \\left\\{ \\begin{array}[c]  ff(z_0) & \\mathrm{interior} \\\\ 0 & \\mathrm{interior} \\end{array}  \\right. $$"
   ]
  },
  {
   "cell_type": "markdown",
   "id": "dense-innocent",
   "metadata": {},
   "source": [
    "Com esta expressão é possível definir as derivadas da função:\n",
    "$$ f^{(n)}(z_0) = \\frac{n!}{2\\pi \\mathbb{i}} \\oint \\frac{f(z)}{(z-z_0)^{n+1}} $$"
   ]
  },
  {
   "cell_type": "markdown",
   "id": "incident-harrison",
   "metadata": {},
   "source": [
    "Esta expressão utiliza a fórmula de Goursat para demonstrar que as funções analíticas tem derivadas de qualquer ordem.\n",
    "\n",
    "### Teorema de Morera\n",
    "Se uma função $f(z)$ é contínua em uma região simplesmente conexa e a sua circulação for nula para qualquer contorno dentro de R, então $f(z)$ é analítica na região.\n",
    "\n",
    "Ou seja, o teorema de Cauchy-Goursat é válido nos dois lados e define univocamente todas as funções analíticas.\n",
    "\n"
   ]
  },
  {
   "cell_type": "markdown",
   "id": "racial-alarm",
   "metadata": {},
   "source": [
    "### Exercício:\n",
    "Mostre que \n",
    "$$ \\oint (z-z_0)^n \\;dz = \\left\\{  \\begin{array}[c]  22 \\pi \\mathbb{i} & n = -1 \\\\ 0 & n \\neq -1 \\end{array}  \\right. $$ \n",
    "para $n \\in \\mathbb{Z}$"
   ]
  },
  {
   "cell_type": "markdown",
   "id": "confused-shark",
   "metadata": {},
   "source": [
    "### Exercício\n",
    "\n",
    "A partir das fórmulas de Rodrigues para diferentes polinômios obtenha a integral de Schlaefli, utilizando a expressão para as derivadas de uma função analítica em termos de integrais.\n",
    "\n",
    "- Polinômios de Legendre \n",
    "$$P_n(x) = \\frac{1}{2^n n!} \\frac{d^n}{dx^n}(x^2-1)^n $$\n",
    "$$\\mathrm{Resp}: \\frac{(-1)^n}{2^n}\\frac{1}{2\\pi\\mathbb{i}} \\oint \\frac{(1-z^2)^n}{(z-x)^{n+1}} \\;dz $$\n",
    "- Polinômios de Hermite\n",
    "$$H_n(x) = (-1)^n e^{x^2}\\frac{d^n}{dx^n}e^{-x^2} $$\n",
    "- Polinômios de Laguerre\n",
    "$$L_n(x) = \\frac{e^x}{n!} \\frac{d^n}{dx^n}(x^n e^{-x}) $$"
   ]
  },
  {
   "cell_type": "markdown",
   "id": "informative-handling",
   "metadata": {},
   "source": [
    "## Séries de Taylor"
   ]
  },
  {
   "cell_type": "markdown",
   "id": "antique-garden",
   "metadata": {},
   "source": [
    "## Desigualdade de Cauchy\n",
    "\n",
    "## Teorema de Liouville\n",
    "\n",
    "## Teorema Fundamental da Álgebra\n",
    "\n",
    "## Zeros de Funções analíticas \n",
    "\n",
    "## Teorema dos Resíduos"
   ]
  },
  {
   "cell_type": "code",
   "execution_count": null,
   "id": "variable-myanmar",
   "metadata": {},
   "outputs": [],
   "source": []
  }
 ],
 "metadata": {
  "hide_input": false,
  "kernelspec": {
   "display_name": "Wolfram Language 12",
   "language": "Wolfram Language",
   "name": "wolframlanguage12"
  },
  "language_info": {
   "codemirror_mode": "mathematica",
   "file_extension": ".m",
   "mimetype": "application/vnd.wolfram.m",
   "name": "Wolfram Language",
   "pygments_lexer": "mathematica",
   "version": "12.0"
  },
  "latex_envs": {
   "LaTeX_envs_menu_present": true,
   "autoclose": false,
   "autocomplete": true,
   "bibliofile": "biblio.bib",
   "cite_by": "apalike",
   "current_citInitial": 1,
   "eqLabelWithNumbers": true,
   "eqNumInitial": 1,
   "hotkeys": {
    "equation": "Ctrl-E",
    "itemize": "Ctrl-I"
   },
   "labels_anchors": false,
   "latex_user_defs": false,
   "report_style_numbering": false,
   "user_envs_cfg": false
  }
 },
 "nbformat": 4,
 "nbformat_minor": 5
}
