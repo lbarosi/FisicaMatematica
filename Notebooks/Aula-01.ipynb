{
 "cells": [
  {
   "cell_type": "markdown",
   "metadata": {},
   "source": [
    "<p><img src=\"../IMAGES/Logo-UFCG.png\" width=\"80\" ></p>\n",
    "\n",
    "# Física Matemática II\n",
    "\n",
    "## Cálculo Tensorial\n",
    "\n",
    "**Luciano Barosi**"
   ]
  },
  {
   "cell_type": "code",
   "execution_count": 1,
   "metadata": {
    "ExecuteTime": {
     "end_time": "2020-03-12T19:11:20-03:00",
     "start_time": "2020-03-12T22:10:23.641Z"
    }
   },
   "outputs": [
    {
     "data": {
      "text/html": [
       "<style>\n",
       "\t\t\t\t\t\t\t\t\t\t\t\t\t.grid-container {\n",
       "\t\t\t\t\t\t\t\t\t\t\t\t\t\tdisplay: inline-grid;\n",
       "\t\t\t\t\t\t\t\t\t\t\t\t\t\tgrid-template-columns: auto;\n",
       "\t\t\t\t\t\t\t\t\t\t\t\t\t}\n",
       "\t\t\t\t\t\t\t\t\t\t\t\t</style>\n",
       "\n",
       "\t\t\t\t\t\t\t\t\t\t\t\t<div><div class=\"grid-container\"><div class=\"grid-item\"><pre style=\"&#102;&#111;&#110;&#116;&#45;&#102;&#97;&#109;&#105;&#108;&#121;&#58;&#32;&#34;&#67;&#111;&#117;&#114;&#105;&#101;&#114;&#32;&#78;&#101;&#119;&#34;&#44;&#67;&#111;&#117;&#114;&#105;&#101;&#114;&#44;&#109;&#111;&#110;&#111;&#115;&#112;&#97;&#99;&#101;&#59;\">&#47;&#117;&#115;&#114;&#47;&#115;&#104;&#97;&#114;&#101;&#47;&#87;&#111;&#108;&#102;&#114;&#97;&#109;&#69;&#110;&#103;&#105;&#110;&#101;</pre></div><div class=\"grid-item\"><pre style=\"&#102;&#111;&#110;&#116;&#45;&#102;&#97;&#109;&#105;&#108;&#121;&#58;&#32;&#34;&#67;&#111;&#117;&#114;&#105;&#101;&#114;&#32;&#78;&#101;&#119;&#34;&#44;&#67;&#111;&#117;&#114;&#105;&#101;&#114;&#44;&#109;&#111;&#110;&#111;&#115;&#112;&#97;&#99;&#101;&#59;\">&#47;&#104;&#111;&#109;&#101;&#47;&#108;&#98;&#97;&#114;&#111;&#115;&#105;&#47;&#46;&#87;&#111;&#108;&#102;&#114;&#97;&#109;&#69;&#110;&#103;&#105;&#110;&#101;</pre></div></div></div>"
      ],
      "text/plain": [
       "/usr/share/WolframEngine\n",
       "/home/lbarosi/.WolframEngine"
      ]
     },
     "execution_count": 1,
     "metadata": {
      "text/html": [],
      "text/plain": []
     },
     "output_type": "execute_result"
    }
   ],
   "source": [
    "$BaseDirectory\n",
    "$UserBaseDirectory"
   ]
  },
  {
   "cell_type": "code",
   "execution_count": 9,
   "metadata": {
    "ExecuteTime": {
     "end_time": "2020-03-12T19:11:47-03:00",
     "start_time": "2020-03-12T22:11:47.272Z"
    }
   },
   "outputs": [],
   "source": [
    "(*Carregando Pacotes*)\n",
    "Quiet@Block[{Print},\n",
    "  << xAct`xTensor`;\n",
    "  << xAct`xCoba`;\n",
    "  ]\n",
    "(*Definindo opções úteis*)\n",
    "$Pre = ScreenDollarIndices;\n",
    "SetOptions[ContractMetric, AllowUpperDerivatives -> True];\n",
    "$DefInfoQ = False;"
   ]
  },
  {
   "cell_type": "code",
   "execution_count": 14,
   "metadata": {
    "ExecuteTime": {
     "end_time": "2020-03-12T19:11:50-03:00",
     "start_time": "2020-03-12T22:11:49.996Z"
    }
   },
   "outputs": [],
   "source": [
    "(*Definindo Variedade*)\n",
    "DefManifold[M, 4, \n",
    " Complement[IndexRange[a, z], {g, h, n, x, y, z, t}]]\n",
    "(*Definindo Métrica e derivada covariante CD*)\n",
    "DefMetric[-1, \n",
    " g[-a, -b], CD, {\";\", \"\\[Del]\"}, PrintAs -> \"g\"]"
   ]
  },
  {
   "cell_type": "code",
   "execution_count": 18,
   "metadata": {
    "ExecuteTime": {
     "end_time": "2020-03-12T19:11:52-03:00",
     "start_time": "2020-03-12T22:11:52.018Z"
    }
   },
   "outputs": [],
   "source": [
    "(*Função pega uma identidade e transforma numa regra*)\n",
    "\n",
    "ApplyRuleN[expr_] := \n",
    "  MakeRule[Evaluate[List @@ expr], MetricOn -> All];"
   ]
  },
  {
   "cell_type": "code",
   "execution_count": 20,
   "metadata": {
    "ExecuteTime": {
     "end_time": "2020-03-12T19:11:54-03:00",
     "start_time": "2020-03-12T22:11:54.446Z"
    }
   },
   "outputs": [],
   "source": [
    "DefTensor[X[a], M]\n",
    "DefTensor[X1[a], M, PrintAs -> \n",
    "\\!\\(\\*OverscriptBox[\\(X\\), \\(~\\)]\\)]\n",
    "DefTensor[V[a], M]\n",
    "DefTensor[V1[a], M]"
   ]
  },
  {
   "cell_type": "code",
   "execution_count": 27,
   "metadata": {
    "ExecuteTime": {
     "end_time": "2020-03-12T19:17:46-03:00",
     "start_time": "2020-03-12T22:17:45.926Z"
    }
   },
   "outputs": [
    {
     "data": {
      "text/html": [
       "<style>\n",
       "\t\t\t\t\t\t\t\t\t\t\t\t\t.grid-container {\n",
       "\t\t\t\t\t\t\t\t\t\t\t\t\t\tdisplay: inline-grid;\n",
       "\t\t\t\t\t\t\t\t\t\t\t\t\t\tgrid-template-columns: auto;\n",
       "\t\t\t\t\t\t\t\t\t\t\t\t\t}\n",
       "\t\t\t\t\t\t\t\t\t\t\t\t</style>\n",
       "\n",
       "\t\t\t\t\t\t\t\t\t\t\t\t<div><div class=\"grid-container\"><div class=\"grid-item\"><img alt=\"Output\" src=\"data:image/png;base64,iVBORw0KGgoAAAANSUhEUgAAAFsAAAASCAIAAAC7AzVqAAAAhXpUWHRSYXcgcHJvZmlsZSB0eXBlIGV4aWYAAHjaVYvBDcMwDAP/mqIjyLJM2uMYiQNkg45fuu0n9yApgbT1vi97felp2dgxABc5csRU6P6juNciDXn+X9MfZGWgoRhTluEkhnJXkqKFN+LCAahYcIbnIV8gNQN3o86928QyPusLVffpbh/5eCey76LuBgAAAAlwSFlzAAALEwAACxMBAJqcGAAAADx0RVh0U29mdHdhcmUAQ3JlYXRlZCB3aXRoIHRoZSBXb2xmcmFtIExhbmd1YWdlIDogd3d3LndvbGZyYW0uY29tXKKmhQAAACF0RVh0Q3JlYXRpb24gVGltZQAyMDIwOjAzOjEyIDE5OjE3OjQ18C0seQAAA6dJREFUWIXtWE9IKl0UvzO9KJyFiZFGQS2Myv4RkkQxCLmIQOrV9ISkmIKEFtUiEpzG6I8URBFE0SJaGElJbxHqoo28TZspapGratEQSIFWLsoGlLpvMX1W83LqWd/3Hh/9mMXvnjnnnt89c++5MAiEEHziCdA/LeCvw2dFhPisiBCfFRHiy58W8GG4v793OBzBYDAajWIY1tvbm5aWlsxE8B8wDCORSG5vb+MWq9Xa1tbGc7fbTZIkhmGbm5txB9ja+vB8HBLKeEOuQCDAk+Pj4+HhYRFPnU5ns9l4HgqFMjIy9vb2+PkfT41Wq5XL5T6fL27xer0EQfAcRdHq6mqpVCooqK+xMZnvkBgiMn58/SoSCCE8PDycmZlZXV3Nzc2NRqMizvPz83Nzc4FAAAAwNjZGEIRGowEA+BobHyuCIEhLS4vH4+GHLMuyLNvQ0MAPDQZDT0+PTCYTTI0gyNtX+xaIyEhNTU0UFYlEzGYzx3Fms7mmpmZoaCgcDgMAlErli/5lZWWdnZ0URbEs63K5Jicn49mf9RGCIIxGI4QQQRCPx1NfXy+RSMQXoNfrgdud6O36+vrBwQHPLRbL9PQ0z4uLi0mSTBSVSAaO4+D79xdDRkZGrFarSqUCAEilUpqmtVqtuPLx8fHCwsKTkxOKorKysh6X8/R03d3dKRQKhmEghHq93ul0Co5fSUmJsI+cnX1sH0koQzSXyWQSWDo6OiCESqVSJJHJZEJRNBgMPoxbW+HZ2bPbF0XR5uZmr9d7fX29s7NjMBjEy/wvIQkZgr28v79fW1vLc5qmS0tLNRrN0dHRUx+/37+9vW00Gu12+1O78PYlCGJwcLCyshLH8V/76O9iY2PD7/fzfGBgYHZ2ludFRUXt7e0igb8rA0XRi4uLzMxMAMDV1dXS0tLCwgIAIBKJ1NXVTUxMOBwOi8USb08AgL6+Poqimpqa1Gp1d3d3eXn5wwvBRorFYnK5XKfTLS8v/7rN/ptT87IM0Vzn5+f9/f2jo6M0TdtstsvLS96uUCh4wnFcdnZ23H9tbU2tVsdiMQih3W7HcTyeQlgRCGFXV1dKSkooFIpbXC4XhmEYhqEomp6ejmEYSZKvqnwnhDKSyhWvSDgcVqlUPL+5ucnJydna2uKHHMfl5eU5nU4+BQLf8zfg27cHkuAK+EgklUsmk+3u7hYUFExNTZ2eni4uLr6a4n0V+etRUVFRVVXFMEx+fv7KyopcLn815H9ekSTwE0IsjHPy0lSPAAAAAElFTkSuQmCC\"></div><div class=\"grid-item\"><img alt=\"Output\" src=\"data:image/png;base64,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\"></div></div></div>"
      ],
      "text/plain": [
       "V1[a] == V[b] PD[-b][X[a]]\n",
       "Plus[Times[PD[Times[-1, b]][X[a]], PD[Times[-1, c]][V[b]]], \n",
       " \n",
       ">   Times[V[b], PD[Times[-1, c]][PD[Times[-1, b]][X[a]]]]]"
      ]
     },
     "execution_count": 28,
     "metadata": {
      "text/html": [],
      "text/plain": []
     },
     "output_type": "execute_result"
    }
   ],
   "source": [
    "(*Derivadas de Vetores não são Vetores*)\n",
    "V1[a] == PD[-b][X[a]] V[b]\n",
    "PD[-c][PD[-b][X[a]] V[b]]"
   ]
  },
  {
   "cell_type": "code",
   "execution_count": 35,
   "metadata": {
    "ExecuteTime": {
     "end_time": "2020-03-12T19:09:06-03:00",
     "start_time": "2020-03-12T22:09:05.740Z"
    }
   },
   "outputs": [
    {
     "data": {
      "text/html": [
       "<style>\n",
       "\t\t\t\t\t\t\t\t\t\t\t\t\t.grid-container {\n",
       "\t\t\t\t\t\t\t\t\t\t\t\t\t\tdisplay: inline-grid;\n",
       "\t\t\t\t\t\t\t\t\t\t\t\t\t\tgrid-template-columns: auto;\n",
       "\t\t\t\t\t\t\t\t\t\t\t\t\t}\n",
       "\t\t\t\t\t\t\t\t\t\t\t\t</style>\n",
       "\n",
       "\t\t\t\t\t\t\t\t\t\t\t\t<div><div class=\"grid-container\"><div class=\"grid-item\"><img alt=\"Output\" src=\"data:image/png;base64,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\"></div><div class=\"grid-item\"><img alt=\"Output\" src=\"data:image/png;base64,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\"></div><div class=\"grid-item\"><img alt=\"Output\" src=\"data:image/png;base64,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\"></div><div class=\"grid-item\"><img alt=\"Output\" src=\"data:image/png;base64,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\"></div><div class=\"grid-item\"><img alt=\"Output\" src=\"data:image/png;base64,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\"></div><div class=\"grid-item\"><img alt=\"Output\" src=\"data:image/png;base64,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\"></div></div></div>"
      ],
      "text/plain": [
       "-(ChristoffelCD[d, -a, -c] g[-b, -d]) - ChristoffelCD[d, -a, -b] g[-d, -c] + \n",
       " \n",
       ">   PD[-a][g[-b, -c]]\n",
       "-(ChristoffelCD[d, -c, -b] g[-a, -d]) - ChristoffelCD[d, -c, -a] g[-d, -b] + \n",
       " \n",
       ">   PD[-c][g[-a, -b]]\n",
       "-(ChristoffelCD[d, -b, -a] g[-c, -d]) - ChristoffelCD[d, -b, -c] g[-d, -a] + \n",
       " \n",
       ">   PD[-b][g[-c, -a]]\n",
       "-2 ChristoffelCD[d, -b, -c] g[-a, -d] - PD[-a][g[-b, -c]] + PD[-b][g[-a, -c]] + \n",
       " \n",
       ">    PD[-c][g[-a, -b]] == 0\n",
       "-2 ChristoffelCD[f, -b, -c] - g[f, a] PD[-a][g[-b, -c]] + g[f, a] PD[-b][g[-c, -a]] + \n",
       " \n",
       ">    g[f, a] PD[-c][g[-b, -a]] == 0\n",
       "ChristoffelCD[f, -b, -c] == \n",
       " \n",
       "     g[f, a] (-PD[-a][g[-b, -c]] + PD[-b][g[-c, -a]] + PD[-c][g[-b, -a]])\n",
       ">    --------------------------------------------------------------------\n",
       "                                      2"
      ]
     },
     "execution_count": 36,
     "metadata": {
      "text/html": [],
      "text/plain": []
     },
     "output_type": "execute_result"
    }
   ],
   "source": [
    "(*Símbolos de Christoffel definem derivada covariante compatível com \\\n",
    "a métrica*)\n",
    "Hold[CD[-a][g[-b, -c]]] // CovDToChristoffel // ReleaseHold\n",
    "Hold[CD[-c][g[-a, -b]]] // CovDToChristoffel // ReleaseHold\n",
    "Hold[CD[-b][g[-c, -a]]] // CovDToChristoffel // ReleaseHold\n",
    "% + %% - %%% == 0 // Simplification\n",
    "eqs = g[f, a] % // ToCanonical\n",
    "ChristoffelG = \n",
    " Equal @@ (Solve[eqs, Union@Cases[eqs, _ChristoffelCD, Infinity]] // \n",
    "       Flatten // First) // ToCanonical // Simplification"
   ]
  },
  {
   "cell_type": "code",
   "execution_count": 30,
   "metadata": {
    "ExecuteTime": {
     "end_time": "2020-03-12T19:18:22-03:00",
     "start_time": "2020-03-12T22:18:21.891Z"
    }
   },
   "outputs": [
    {
     "data": {
      "text/html": [
       "<div><img alt=\"Output\" src=\"data:image/png;base64,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\"></div>"
      ],
      "text/plain": [
       "(g[c, w$8841] (g[w$8842, w$8846] (PDg[-a, -w$8838, -w$8842] PDg[-b, -w$8841, -w$8846] - \n",
       " \n",
       ">          PDg[-a, -w$8842, -w$8838] PDg[-b, -w$8841, -w$8846] - \n",
       " \n",
       ">          PDg[-a, -w$8838, -w$8842] PDg[-b, -w$8846, -w$8841] + \n",
       " \n",
       ">          PDg[-a, -w$8842, -w$8838] PDg[-b, -w$8846, -w$8841] - \n",
       " \n",
       ">          PDg[-b, -w$8841, -w$8842] PDg[-w$8838, -w$8846, -a] + \n",
       " \n",
       ">          PDg[-b, -w$8842, -w$8841] PDg[-w$8838, -w$8846, -a] + \n",
       " \n",
       ">          PDg[-a, -w$8842, -w$8841] \n",
       " \n",
       ">           (PDg[-b, -w$8838, -w$8846] - PDg[-b, -w$8846, -w$8838] - \n",
       " \n",
       ">             PDg[-w$8838, -w$8846, -b]) + \n",
       " \n",
       ">          PDg[-a, -w$8841, -w$8842] \n",
       " \n",
       ">           (-PDg[-b, -w$8838, -w$8846] + PDg[-b, -w$8846, -w$8838] + \n",
       " \n",
       ">             PDg[-w$8838, -w$8846, -b]) - \n",
       " \n",
       ">          PDg[-w$8838, -w$8846, -b] PDg[-w$8841, -w$8842, -a] + \n",
       " \n",
       ">          PDg[-b, -w$8838, -w$8842] PDg[-w$8841, -w$8846, -a] - \n",
       " \n",
       ">          PDg[-b, -w$8842, -w$8838] PDg[-w$8841, -w$8846, -a] - \n",
       " \n",
       ">          PDg[-a, -w$8838, -w$8842] PDg[-w$8841, -w$8846, -b] + \n",
       " \n",
       ">          PDg[-a, -w$8842, -w$8838] PDg[-w$8841, -w$8846, -b] + \n",
       " \n",
       ">          PDg[-w$8838, -w$8842, -a] PDg[-w$8841, -w$8846, -b]) + \n",
       " \n",
       ">       2 (PDPDg[-a, -w$8838, -b, -w$8841] - PDPDg[-a, -w$8841, -b, -w$8838] - \n",
       " \n",
       ">          PDPDg[-b, -w$8838, -a, -w$8841] + PDPDg[-b, -w$8841, -a, -w$8838])) V[w$8838])\n",
       " \n",
       ">     / 4"
      ]
     },
     "execution_count": 31,
     "metadata": {
      "text/html": [],
      "text/plain": []
     },
     "output_type": "execute_result"
    }
   ],
   "source": [
    "(*Derivadas Covariantes não comutam*)\n",
    "\n",
    "CD[-a][CD[-b][V[c]]] - CD[-b][CD[-a][V[c]]] // CovDToChristoffel // \n",
    "   ChristoffelToMetric // Implode // Simplification\n"
   ]
  },
  {
   "cell_type": "code",
   "execution_count": 32,
   "metadata": {
    "ExecuteTime": {
     "end_time": "2020-03-12T19:18:27-03:00",
     "start_time": "2020-03-12T22:18:26.217Z"
    }
   },
   "outputs": [
    {
     "data": {
      "text/html": [
       "<style>\n",
       "\t\t\t\t\t\t\t\t\t\t\t\t\t.grid-container {\n",
       "\t\t\t\t\t\t\t\t\t\t\t\t\t\tdisplay: inline-grid;\n",
       "\t\t\t\t\t\t\t\t\t\t\t\t\t\tgrid-template-columns: auto;\n",
       "\t\t\t\t\t\t\t\t\t\t\t\t\t}\n",
       "\t\t\t\t\t\t\t\t\t\t\t\t</style>\n",
       "\n",
       "\t\t\t\t\t\t\t\t\t\t\t\t<div><div class=\"grid-container\"><div class=\"grid-item\"><img alt=\"Output\" src=\"data:image/png;base64,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\"></div><div class=\"grid-item\"><img alt=\"Output\" src=\"data:image/png;base64,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\"></div><div class=\"grid-item\"><img alt=\"Output\" src=\"data:image/png;base64,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\"></div><div class=\"grid-item\"><img alt=\"Output\" src=\"data:image/png;base64,iVBORw0KGgoAAAANSUhEUgAAAAgAAAASCAIAAADpIAghAAAAhXpUWHRSYXcgcHJvZmlsZSB0eXBlIGV4aWYAAHjaVYvBDcMwDAP/mqIjyLJM2uMYiQNkg45fuu0n9yApgbT1vi97felp2dgxABc5csRU6P6juNciDXn+X9MfZGWgoRhTluEkhnJXkqKFN+LCAahYcIbnIV8gNQN3o86928QyPusLVffpbh/5eCey76LuBgAAAAlwSFlzAAALEwAACxMBAJqcGAAAADx0RVh0U29mdHdhcmUAQ3JlYXRlZCB3aXRoIHRoZSBXb2xmcmFtIExhbmd1YWdlIDogd3d3LndvbGZyYW0uY29tXKKmhQAAACF0RVh0Q3JlYXRpb24gVGltZQAyMDIwOjAzOjEyIDE5OjE4OjI3EBr6hQAAAM9JREFUGJW9kCGOhTAURd9HIUhocKQChYIvMSQkeETZBY6VEPbQhCXAGtBAAAWe+jYo7oiZcd/OHHmuObkvAPQJ66P9k6FpGs45Y0wIcV0XERGAruvCMDzP877vuq7zPAdAALIsk1ICAGCMcV1333eLiOZ5TpJESlkUhW3bcRxP02QRkdaaMaaUOo7jeR7P87TWBIBzviwLfknTdBgGi4je7/c4jt95Wut1XaMoIgB93wdBsG2bMaaqqrIsf6oAtG3r+77jOEIIpRSA1z+8+wWDBn0+1Zr/LwAAAABJRU5ErkJggg==\"></div></div></div>"
      ],
      "text/plain": [
       "(g[c, w$9920] (g[w$9921, w$9925] (PDg[-a, -w$9917, -w$9921] PDg[-b, -w$9920, -w$9925] - \n",
       " \n",
       ">          PDg[-a, -w$9921, -w$9917] PDg[-b, -w$9920, -w$9925] - \n",
       " \n",
       ">          PDg[-a, -w$9917, -w$9921] PDg[-b, -w$9925, -w$9920] + \n",
       " \n",
       ">          PDg[-a, -w$9921, -w$9917] PDg[-b, -w$9925, -w$9920] - \n",
       " \n",
       ">          PDg[-b, -w$9920, -w$9921] PDg[-w$9917, -w$9925, -a] + \n",
       " \n",
       ">          PDg[-b, -w$9921, -w$9920] PDg[-w$9917, -w$9925, -a] + \n",
       " \n",
       ">          PDg[-a, -w$9921, -w$9920] \n",
       " \n",
       ">           (PDg[-b, -w$9917, -w$9925] - PDg[-b, -w$9925, -w$9917] - \n",
       " \n",
       ">             PDg[-w$9917, -w$9925, -b]) + \n",
       " \n",
       ">          PDg[-a, -w$9920, -w$9921] \n",
       " \n",
       ">           (-PDg[-b, -w$9917, -w$9925] + PDg[-b, -w$9925, -w$9917] + \n",
       " \n",
       ">             PDg[-w$9917, -w$9925, -b]) - \n",
       " \n",
       ">          PDg[-w$9917, -w$9925, -b] PDg[-w$9920, -w$9921, -a] + \n",
       " \n",
       ">          PDg[-b, -w$9917, -w$9921] PDg[-w$9920, -w$9925, -a] - \n",
       " \n",
       ">          PDg[-b, -w$9921, -w$9917] PDg[-w$9920, -w$9925, -a] - \n",
       " \n",
       ">          PDg[-a, -w$9917, -w$9921] PDg[-w$9920, -w$9925, -b] + \n",
       " \n",
       ">          PDg[-a, -w$9921, -w$9917] PDg[-w$9920, -w$9925, -b] + \n",
       " \n",
       ">          PDg[-w$9917, -w$9921, -a] PDg[-w$9920, -w$9925, -b]) + \n",
       " \n",
       ">       2 (PDPDg[-a, -w$9917, -b, -w$9920] - PDPDg[-a, -w$9920, -b, -w$9917] - \n",
       " \n",
       ">          PDPDg[-b, -w$9917, -a, -w$9920] + PDPDg[-b, -w$9920, -a, -w$9917])) V[w$9917])\n",
       " \n",
       ">     / 4\n",
       "g[-b, -w$10567] g[c, w$10564] V[d] (-(ChristoffelCD[w$10567, -w$10564, -w$10570] \n",
       " \n",
       ">        ChristoffelCD[w$10570, -d, -a]) + \n",
       " \n",
       ">     ChristoffelCD[w$10567, -d, -w$10570] ChristoffelCD[w$10570, -w$10564, -a] + \n",
       " \n",
       ">     PD[-d][ChristoffelCD[w$10567, -w$10564, -a]] - \n",
       " \n",
       ">     PD[-w$10564][ChristoffelCD[w$10567, -d, -a]])\n",
       "g[-b, -w$10567] g[c, w$10564] V[d] (-(g[w$10567, w$10574] g[w$10570, w$10577] \n",
       " \n",
       ">         (PD[-w$10564][g[-w$10570, -w$10574]] + PD[-w$10570][g[-w$10564, -w$10574]] - \n",
       " \n",
       ">           PD[-w$10574][g[-w$10564, -w$10570]]) \n",
       " \n",
       ">         (PD[-a][g[-d, -w$10577]] + PD[-d][g[-a, -w$10577]] - PD[-w$10577][g[-d, -a]]))\\\n",
       " \n",
       ">       / 4 + (g[w$10567, w$10580] g[w$10570, w$10583] \n",
       " \n",
       ">        (PD[-d][g[-w$10570, -w$10580]] + PD[-w$10570][g[-d, -w$10580]] - \n",
       " \n",
       ">          PD[-w$10580][g[-d, -w$10570]]) \n",
       " \n",
       ">        (PD[-a][g[-w$10564, -w$10583]] + PD[-w$10564][g[-a, -w$10583]] - \n",
       " \n",
       ">          PD[-w$10583][g[-w$10564, -a]])) / 4 + \n",
       " \n",
       ">     (g[w$10567, w$10586] (PD[-d][PD[-a][g[-w$10564, -w$10586]]] + \n",
       " \n",
       ">           PD[-d][PD[-w$10564][g[-a, -w$10586]]] - PD[-d][PD[-w$10586][g[-w$10564, -a]]]\n",
       " \n",
       ">           ) - g[w$10567, w$10589] g[w$10586, w$10590] PD[-d][g[-w$10589, -w$10590]] \n",
       " \n",
       ">         (PD[-a][g[-w$10564, -w$10586]] + PD[-w$10564][g[-a, -w$10586]] - \n",
       " \n",
       ">           PD[-w$10586][g[-w$10564, -a]])) / 2 + \n",
       " \n",
       ">     (-(g[w$10567, w$10592] (PD[-w$10564][PD[-a][g[-d, -w$10592]]] + \n",
       " \n",
       ">             PD[-w$10564][PD[-d][g[-a, -w$10592]]] - \n",
       " \n",
       ">             PD[-w$10564][PD[-w$10592][g[-d, -a]]])) + \n",
       " \n",
       ">        g[w$10567, w$10595] g[w$10592, w$10596] PD[-w$10564][g[-w$10595, -w$10596]] \n",
       " \n",
       ">         (PD[-a][g[-d, -w$10592]] + PD[-d][g[-a, -w$10592]] - PD[-w$10592][g[-d, -a]]))\\\n",
       " \n",
       ">       / 2)\n",
       "0"
      ]
     },
     "execution_count": 33,
     "metadata": {
      "text/html": [],
      "text/plain": []
     },
     "output_type": "execute_result"
    }
   ],
   "source": [
    "(*Tensor de Curvatura mede a não-comutatividade das derivadas*)\n",
    "\n",
    "CD[-a][CD[-b][V[c]]] - CD[-b][CD[-a][V[c]]] // CovDToChristoffel // \n",
    "   ChristoffelToMetric // Implode // Simplification\n",
    "RiemannCD[c, -d, -a, -b] V[d] // RiemannToChristoffel\n",
    "% // ChristoffelToMetric\n",
    "% - %%% // Implode // Simplification"
   ]
  },
  {
   "cell_type": "code",
   "execution_count": null,
   "metadata": {},
   "outputs": [],
   "source": []
  },
  {
   "cell_type": "code",
   "execution_count": null,
   "metadata": {},
   "outputs": [],
   "source": []
  },
  {
   "cell_type": "code",
   "execution_count": null,
   "metadata": {},
   "outputs": [],
   "source": []
  }
 ],
 "metadata": {
  "kernelspec": {
   "display_name": "Wolfram Language 12",
   "language": "Wolfram Language",
   "name": "wolframlanguage12"
  },
  "language_info": {
   "codemirror_mode": "mathematica",
   "file_extension": ".m",
   "mimetype": "application/vnd.wolfram.m",
   "name": "Wolfram Language",
   "pygments_lexer": "mathematica",
   "version": "12.0"
  },
  "latex_envs": {
   "LaTeX_envs_menu_present": true,
   "autoclose": false,
   "autocomplete": true,
   "bibliofile": "biblio.bib",
   "cite_by": "apalike",
   "current_citInitial": 1,
   "eqLabelWithNumbers": true,
   "eqNumInitial": 1,
   "hotkeys": {
    "equation": "Ctrl-E",
    "itemize": "Ctrl-I"
   },
   "labels_anchors": false,
   "latex_user_defs": false,
   "report_style_numbering": false,
   "user_envs_cfg": false
  }
 },
 "nbformat": 4,
 "nbformat_minor": 4
}
